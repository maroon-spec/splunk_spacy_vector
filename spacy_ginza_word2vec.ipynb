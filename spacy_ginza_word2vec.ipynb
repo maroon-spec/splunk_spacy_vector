{
 "cells": [
  {
   "cell_type": "markdown",
   "metadata": {},
   "source": [
    "# Notebook for Splunk Machine Learning Toolkit Container for TensorFlow"
   ]
  },
  {
   "cell_type": "markdown",
   "metadata": {},
   "source": [
    "This notebook contains an example workflow how to work on custom containerized code that seamlessly interfaces with the Splunk Machine Learning Toolkit (MLTK) Container for TensorFlow. This script contains an example of how to run an entity extraction algorithm over text using the spacy library."
   ]
  },
  {
   "cell_type": "markdown",
   "metadata": {},
   "source": [
    "## Stage 0 - import libraries\n",
    "At stage 0 we define all imports necessary to run our subsequent code depending on various libraries."
   ]
  },
  {
   "cell_type": "code",
   "execution_count": 1,
   "metadata": {
    "deletable": false,
    "name": "mltkc_import"
   },
   "outputs": [],
   "source": [
    "# this definition exposes all python module imports that should be available in all subsequent commands\n",
    "import json\n",
    "import datetime\n",
    "import numpy as np\n",
    "import pandas as pd\n",
    "import spacy\n",
    "import sys\n",
    "\n",
    "# global constants\n",
    "MODEL_DIRECTORY = \"/srv/app/model/data/\""
   ]
  },
  {
   "cell_type": "code",
   "execution_count": 2,
   "metadata": {},
   "outputs": [
    {
     "name": "stdout",
     "output_type": "stream",
     "text": [
      "numpy version: 1.16.4\n",
      "pandas version: 0.25.1\n",
      "spacy version: 2.2.4\n"
     ]
    }
   ],
   "source": [
    "# THIS CELL IS NOT EXPORTED - free notebook cell for testing purposes\n",
    "print(\"numpy version: \" + np.__version__)\n",
    "print(\"pandas version: \" + pd.__version__)\n",
    "print(\"spacy version: \" + spacy.__version__)"
   ]
  },
  {
   "cell_type": "code",
   "execution_count": 3,
   "metadata": {},
   "outputs": [],
   "source": [
    "#import sys\n",
    "#!{sys.executable} -m spacy download en_core_web_sm"
   ]
  },
  {
   "cell_type": "markdown",
   "metadata": {},
   "source": [
    "## Stage 1 - get a data sample from Splunk\n",
    "In Splunk run a search to pipe a prepared dataset into this environment."
   ]
  },
  {
   "cell_type": "markdown",
   "metadata": {},
   "source": [
    "| inputlookup fy21_basic | rename \"本日の感想やご意見をお聞かせください\" as comment, \"本日のワークショップにご満足いただけましたか？\" as satisfy, \"ワークショップ実施日\" as date| where isnotnull('comment') | eval workshop = if(date = \"7/17/2020\",\"AWS Security\",\"Basic\") | append [| inputlookup fy21_premium | rename \"本日の感想や率直なご意見をお聞かせください\" as comment, \"本日のワークショップにご満足いただけましたか？\" as satisfy, \"ワークショップ実施日\" as date , \"本日のワークショップ種類\" as workshop| where isnotnull('comment') ] | table workshop date satisfy comment | fit MLTKContainer mode=stage algo=spacy_ginza_word2vec comment from date satisfy into ws_spacy_word2vec_stage"
   ]
  },
  {
   "cell_type": "markdown",
   "metadata": {},
   "source": [
    "After you run this search your data set sample is available as a csv inside the container to develop your model. The name is taken from the into keyword (\"spacy_entity_extraction_model in the example above) or set to \"default\" if no into keyword is present. This step is intended to work with a subset of your data to create your custom model."
   ]
  },
  {
   "cell_type": "code",
   "execution_count": 4,
   "metadata": {
    "deletable": false,
    "name": "mltkc_stage"
   },
   "outputs": [],
   "source": [
    "# this cell is not executed from MLTK and should only be used for staging data into the notebook environment\n",
    "def stage(name):\n",
    "    with open(\"data/\"+name+\".csv\", 'r') as f:\n",
    "        df = pd.read_csv(f)\n",
    "    with open(\"data/\"+name+\".json\", 'r') as f:\n",
    "        param = json.load(f)\n",
    "    return df, param"
   ]
  },
  {
   "cell_type": "code",
   "execution_count": 5,
   "metadata": {},
   "outputs": [
    {
     "name": "stdout",
     "output_type": "stream",
     "text": [
      "          date  satisfy                                            comment\n",
      "0    2/14/2020        4                             本格的に使うとなるとやはり難しそうではある。\n",
      "1    2/14/2020        5                  Splunkの基本動作の勉強になりました。ありがとうございました。\n",
      "2    2/14/2020        5  知らないコマンドを知れただけで有益でした。\\nsplunkはもっとたくさん活用できる可能性が...\n",
      "3    2/14/2020        5                                分かりやすかったです。まず使ってみます\n",
      "4    2/14/2020        5  事前にsplunkを少しでも触っていると飲み込みやすい内容だった。splunkの特長を強調し...\n",
      "..         ...      ...                                                ...\n",
      "343  8/28/2020        4              セキュリティは現在の主業務ではありませんがログ分析の方法は参考になりました\n",
      "344  8/28/2020        4    途中参加でしたが、途中からでもログソースや各ログ内のフィールド、値がわかって参考になりました。\n",
      "345  8/28/2020        5             実践的な事案でのハンズオンで、大変勉強になりました。ありがとうございました。\n",
      "346  8/28/2020        4  自分にはPowerPoint内の課題の難易度が高かったですが、Office365分析における...\n",
      "347  8/28/2020        5  他社のSIEM製品を使用した運用を実施しているが、Splunkについては未経験の中スケジュー...\n",
      "\n",
      "[348 rows x 3 columns]\n",
      "(348, 3)\n",
      "{'options': {'params': {'mode': 'stage', 'algo': 'spacy_ginza_word2vec'}, 'args': ['comment', 'date', 'satisfy'], 'target_variable': ['comment'], 'feature_variables': ['date', 'satisfy'], 'model_name': 'ws_spacy_word2vec_stage', 'algo_name': 'MLTKContainer', 'mlspl_limits': {'handle_new_cat': 'default', 'max_distinct_cat_values': '100', 'max_distinct_cat_values_for_classifiers': '100', 'max_distinct_cat_values_for_scoring': '100', 'max_fit_time': '600', 'max_inputs': '100000', 'max_memory_usage_mb': '1000', 'max_model_size_mb': '15', 'max_score_time': '600', 'streaming_apply': 'false', 'use_sampling': 'true'}, 'kfold_cv': None}, 'feature_variables': ['date', 'satisfy'], 'target_variables': ['comment']}\n"
     ]
    }
   ],
   "source": [
    "# THIS CELL IS NOT EXPORTED - free notebook cell for testing purposes\n",
    "df, param = stage(\"ws_spacy_word2vec_stage\")\n",
    "print(df)\n",
    "print(df.shape)\n",
    "print(str(param))"
   ]
  },
  {
   "cell_type": "markdown",
   "metadata": {},
   "source": [
    "## Stage 2 - create and initialize a model"
   ]
  },
  {
   "cell_type": "code",
   "execution_count": 6,
   "metadata": {
    "deletable": false,
    "name": "mltkc_init"
   },
   "outputs": [],
   "source": [
    "# initialize the model\n",
    "# params: data and parameters\n",
    "# returns the model object which will be used as a reference to call fit, apply and summary subsequently\n",
    "def init(df,param):\n",
    "    # Load English tokenizer, tagger, parser, NER and word vectors\n",
    "    #import en_core_web_sm\n",
    "    #model = en_core_web_sm.load()\n",
    "    #model = spacy.load(\"en_core_web_sm\")\n",
    "    model = spacy.load(\"ja_ginza\")\n",
    "    return model"
   ]
  },
  {
   "cell_type": "code",
   "execution_count": 7,
   "metadata": {
    "scrolled": true
   },
   "outputs": [],
   "source": [
    "model = init(df,param)"
   ]
  },
  {
   "cell_type": "markdown",
   "metadata": {},
   "source": [
    "## Stage 3 - fit the model"
   ]
  },
  {
   "cell_type": "markdown",
   "metadata": {},
   "source": [
    "Note that for this algorithm the model is pre-trained (the en_core_web_sm library comes pre-packaged by spacy) and therefore this stage is a placeholder only"
   ]
  },
  {
   "cell_type": "code",
   "execution_count": 8,
   "metadata": {
    "deletable": false,
    "name": "mltkc_fit"
   },
   "outputs": [],
   "source": [
    "# returns a fit info json object\n",
    "def fit(model,df,param):\n",
    "    returns = {}\n",
    "    \n",
    "    return returns"
   ]
  },
  {
   "cell_type": "markdown",
   "metadata": {},
   "source": [
    "## Stage 4 - apply the model"
   ]
  },
  {
   "cell_type": "code",
   "execution_count": 9,
   "metadata": {
    "deletable": false,
    "name": "mltkc_apply"
   },
   "outputs": [],
   "source": [
    "def apply(model,df,param):\n",
    "    X = df['comment'].values.tolist()\n",
    "    \n",
    "    returns = list()\n",
    "    \n",
    "    for i in range(len(X)):\n",
    "        doc = model(str(X[i]))\n",
    "        \n",
    "        vec = doc.vector\n",
    "        returns.append(vec)\n",
    "        \n",
    "    return returns"
   ]
  },
  {
   "cell_type": "code",
   "execution_count": 10,
   "metadata": {},
   "outputs": [
    {
     "data": {
      "text/plain": [
       "[array([-0.01745225, -0.17404637,  0.586339  , -0.20645565, -0.45512658,\n",
       "        -0.7743225 ,  0.01516116,  0.4669725 ,  1.152631  , -0.26280355,\n",
       "        -0.44293675, -0.33399585,  0.30537373,  0.34298804,  0.20133083,\n",
       "        -0.15832189, -0.25830057, -0.19467053,  0.5354607 ,  0.40928903,\n",
       "         0.02717442,  0.02406411, -0.4978748 , -0.2059672 , -0.45008305,\n",
       "        -0.5953935 ,  0.52704895,  0.8005702 ,  1.446021  ,  0.41330144,\n",
       "         0.62747097,  0.79453814, -0.23842365, -0.28951532, -0.7480491 ,\n",
       "         0.90363944, -0.2587626 , -0.45700854, -0.01709555, -0.4804917 ,\n",
       "        -0.02713005,  0.10595898, -0.69801325,  0.05026114, -0.09356131,\n",
       "         0.22575544,  0.9437057 ,  0.2141324 , -0.51864135,  0.3103437 ,\n",
       "         0.7937176 , -0.04258128,  0.2920567 , -0.62381774,  0.680776  ,\n",
       "        -0.02972949,  0.3205241 ,  0.018604  , -0.32513997,  0.00753968,\n",
       "        -0.14604221, -0.48977333,  0.50503415, -0.36163425,  0.07766759,\n",
       "        -0.27951413, -0.09002935, -0.24485509, -0.22214712, -0.05172869,\n",
       "         0.87002313,  0.6963586 ,  0.16142066,  0.3539286 , -0.31862217,\n",
       "         0.4081745 , -0.04902891,  1.1798893 ,  0.63413495, -0.10340504,\n",
       "         0.11319192, -0.64524543, -0.24654602,  0.3559766 , -0.16089445,\n",
       "         0.00786483, -0.13102032, -0.18826836,  0.299825  ,  0.54051113,\n",
       "        -0.13769923,  0.606912  ,  0.22914411,  0.2710323 , -1.0108818 ,\n",
       "        -0.7285449 , -0.01350302,  0.5081796 ,  0.38289914, -0.48968446],\n",
       "       dtype=float32),\n",
       " array([ 0.39059854, -0.19457176,  0.40629598, -0.501202  , -0.24048615,\n",
       "        -0.9137355 ,  0.0910985 , -0.31097823,  1.2250835 , -0.22989947,\n",
       "        -0.23060028, -0.52543086,  1.0758535 ,  0.1712533 ,  0.19685881,\n",
       "         0.30925834,  0.27437836, -0.13287222, -0.09963919,  0.47105712,\n",
       "         0.317805  , -0.06011485, -0.18732046, -0.25998154,  0.21235098,\n",
       "        -0.11120115, -0.33166006,  0.45900625,  0.5573416 ,  0.5872079 ,\n",
       "         1.0795842 ,  0.7084124 , -0.56395894, -0.36104873, -0.8823082 ,\n",
       "         0.5876105 , -0.65047246, -0.57491595, -0.3075902 , -0.31567723,\n",
       "        -0.14872293, -0.24988246, -0.31454238, -0.18484575,  0.2229077 ,\n",
       "         0.2689992 ,  0.53266144,  0.23972166,  0.172701  , -0.09678255,\n",
       "         0.81702435, -0.31008896,  0.13360111, -0.2217427 ,  0.5047947 ,\n",
       "         0.19176105,  0.36131123, -0.5636554 , -0.29384905, -0.6042761 ,\n",
       "         0.16302115, -0.05647539,  0.03733279,  0.09968437, -0.35367703,\n",
       "        -0.09417538,  0.15058957,  0.19334653, -0.20769231, -0.65729535,\n",
       "         0.63908964,  0.07542111,  0.2443515 ,  0.94581604,  0.05797045,\n",
       "         0.47560346, -0.5161082 ,  0.9322228 ,  0.6042919 ,  0.2094329 ,\n",
       "        -0.20425424, -0.01639383, -0.15578516,  0.35177982,  0.48632202,\n",
       "         0.40867934,  0.5416987 , -0.35859168,  0.04783335,  0.42642364,\n",
       "         0.17057288,  0.526764  ,  0.41974762, -0.36555493, -0.28575128,\n",
       "        -0.32407495,  0.20982665, -0.1399405 , -0.0432575 , -0.7180356 ],\n",
       "       dtype=float32),\n",
       " array([ 1.27595887e-01, -3.09090883e-01,  3.36386889e-01, -2.52407312e-01,\n",
       "        -6.71137944e-02, -8.44373345e-01,  7.50263780e-02, -5.50924242e-02,\n",
       "         1.29840136e+00, -3.24766874e-01, -2.75944501e-01,  1.26457866e-02,\n",
       "         5.46071053e-01, -2.25310568e-02,  5.28213024e-01,  2.22437784e-01,\n",
       "        -4.85094309e-01,  7.26319179e-02,  4.91537333e-01,  3.62017244e-01,\n",
       "        -3.85206081e-02, -1.01883034e-03, -1.82238162e-01, -1.81428820e-01,\n",
       "        -2.92305410e-01, -4.00238574e-01,  2.25470424e-01,  8.18580270e-01,\n",
       "         1.08844376e+00,  7.73520529e-01,  9.99095976e-01,  7.06441045e-01,\n",
       "        -2.33676299e-01, -2.75000840e-01, -7.05047429e-01,  6.72760189e-01,\n",
       "        -7.50295967e-02, -6.78385019e-01, -2.04187855e-01, -5.28659344e-01,\n",
       "         1.11546703e-01, -3.58823799e-02, -7.32086420e-01, -3.51914793e-01,\n",
       "         3.94109152e-02,  8.21927115e-02,  7.55682945e-01,  4.62968498e-01,\n",
       "        -4.06750798e-01, -1.88349649e-01,  3.57886523e-01, -1.32641420e-01,\n",
       "         4.54479665e-01, -7.47869074e-01,  6.36584640e-01,  2.61261851e-01,\n",
       "         1.23739436e-01, -2.20634311e-01, -4.68619376e-01,  5.36911488e-02,\n",
       "         1.18657805e-01, -4.76396173e-01,  1.26682892e-01, -2.54168510e-02,\n",
       "         2.04310909e-01, -3.25722285e-02, -1.28000043e-02, -4.33925306e-04,\n",
       "        -4.78659570e-01, -2.39255607e-01,  6.88496470e-01,  4.20963973e-01,\n",
       "         1.75746053e-01,  3.68194491e-01, -3.69779885e-01,  3.15825373e-01,\n",
       "        -1.73020557e-01,  1.32896411e+00,  7.81004071e-01,  3.65813822e-01,\n",
       "        -2.85108060e-01, -7.95875311e-01, -1.24880157e-01,  2.63094366e-01,\n",
       "         7.92301372e-02,  2.07322210e-01,  2.13366598e-01, -2.07332566e-01,\n",
       "         2.93671906e-01,  5.15301406e-01, -1.17669240e-01,  8.38425577e-01,\n",
       "         2.74027497e-01, -1.55575320e-01, -5.03388941e-01, -2.79302120e-01,\n",
       "        -2.91540653e-01, -1.18694961e-01,  3.51230443e-01, -5.14934182e-01],\n",
       "       dtype=float32),\n",
       " array([ 0.18522339, -0.24927814,  0.6504606 , -0.6255674 , -0.22280231,\n",
       "        -0.99489105, -0.06429987,  0.08522417,  1.3420926 , -0.18760952,\n",
       "        -0.46571684,  0.01756369,  0.8033689 ,  0.08508838,  0.31895813,\n",
       "         0.25052553,  0.02016715,  0.30806062,  0.42170334,  0.8237119 ,\n",
       "         0.21634145, -0.24186616, -0.30190888, -0.06578678,  0.04439888,\n",
       "        -0.4434927 ,  0.01717061,  0.8347885 ,  1.217478  ,  0.9680484 ,\n",
       "         1.0463246 ,  0.6693183 , -0.59661347, -0.9689476 , -1.2857275 ,\n",
       "         1.0604484 , -0.51522857, -1.209664  , -0.49211875, -0.10940397,\n",
       "        -0.0094036 , -0.39925537, -0.63046736, -0.62503386,  0.32460955,\n",
       "        -0.12919246,  0.36466348,  0.17359282, -0.27738222,  0.07328341,\n",
       "         0.64133805, -0.30957493,  0.2394239 , -0.37832373,  0.40282068,\n",
       "         0.10820226,  0.12699051, -0.43937343,  0.08480726, -0.5838555 ,\n",
       "         0.26794147, -0.23566708,  0.0692706 , -0.36875767, -0.02985982,\n",
       "        -0.32898244, -0.05376375,  0.18452248, -0.01627197, -0.17430928,\n",
       "         1.0144918 ,  0.58015776,  0.33486658,  0.5300636 , -0.20418279,\n",
       "         0.3559612 , -0.44700986,  1.3980037 ,  0.72556704,  0.08438834,\n",
       "         0.01873283, -0.8348713 , -0.28327757,  0.5574711 ,  0.2678647 ,\n",
       "         0.47359163,  0.53444064, -0.30120286,  0.5162078 ,  0.47684854,\n",
       "         0.5021075 ,  0.52758306,  0.62991273, -0.65690404, -0.71082187,\n",
       "        -0.7376334 , -0.22603424,  0.45012993,  0.07684529, -0.58008456],\n",
       "       dtype=float32),\n",
       " array([-0.14527832, -0.19875906,  0.5471441 , -0.28430015, -0.47658178,\n",
       "        -0.791962  ,  0.28740427,  0.20896652,  1.4553086 , -0.15874706,\n",
       "        -0.5260666 ,  0.03225648,  0.44892424,  0.09129989,  0.43711823,\n",
       "         0.01558883, -0.2919278 , -0.0294652 ,  0.73050386,  0.21446626,\n",
       "        -0.06619247, -0.2826495 , -0.14662403, -0.38318682, -0.15453899,\n",
       "        -0.49551907,  0.09919405,  0.78758955,  1.125721  ,  0.65500855,\n",
       "         0.8557865 ,  0.69205683, -0.43901506, -0.53959066, -1.0715649 ,\n",
       "         0.71948373, -0.24673635, -0.67191786, -0.16329052, -0.50531554,\n",
       "         0.10351493,  0.06356978, -0.35124126, -0.28430378,  0.09053766,\n",
       "         0.1146704 ,  1.0299442 ,  0.21024996, -0.61028856,  0.04428334,\n",
       "         0.5451666 ,  0.04611803,  0.23485465, -0.6004677 ,  0.46316043,\n",
       "         0.56703633,  0.3102819 , -0.06480309,  0.0072622 ,  0.06985886,\n",
       "         0.11496451, -0.42324048,  0.27242625, -0.18334422, -0.09582653,\n",
       "        -0.38868442,  0.01476199, -0.31866795, -0.12783907, -0.07432005,\n",
       "         0.81515455,  0.54949796,  0.22130033,  0.44985762, -0.35025805,\n",
       "         0.45062637, -0.13680422,  1.3975344 ,  0.6689005 ,  0.04927671,\n",
       "        -0.01363421, -0.6406815 , -0.2822461 ,  0.15126698, -0.00311955,\n",
       "         0.28798425,  0.28515497,  0.03871495,  0.37790683,  0.59404963,\n",
       "        -0.05554358,  0.62586653,  0.47986025,  0.00781731, -0.75896776,\n",
       "        -0.3128759 , -0.03889824,  0.20352833,  0.39900133, -0.64363146],\n",
       "       dtype=float32)]"
      ]
     },
     "execution_count": 10,
     "metadata": {},
     "output_type": "execute_result"
    }
   ],
   "source": [
    "returns = apply(model,df,param)\n",
    "returns[:5]"
   ]
  },
  {
   "cell_type": "markdown",
   "metadata": {},
   "source": [
    "## Stage 5 - save the model"
   ]
  },
  {
   "cell_type": "code",
   "execution_count": 11,
   "metadata": {
    "deletable": false,
    "name": "mltkc_save"
   },
   "outputs": [],
   "source": [
    "# save model to name in expected convention \"<algo_name>_<model_name>.h5\"\n",
    "def save(model,name):\n",
    "    # model will not be saved or reloaded as it is pre-built\n",
    "    return model"
   ]
  },
  {
   "cell_type": "code",
   "execution_count": null,
   "metadata": {},
   "outputs": [],
   "source": []
  },
  {
   "cell_type": "markdown",
   "metadata": {},
   "source": [
    "## Stage 6 - load the model"
   ]
  },
  {
   "cell_type": "code",
   "execution_count": 12,
   "metadata": {
    "deletable": false,
    "name": "mltkc_load"
   },
   "outputs": [],
   "source": [
    "# load model from name in expected convention \"<algo_name>_<model_name>.h5\"\n",
    "def load(name):\n",
    "    # model will not be saved or reloaded as it is pre-built\n",
    "    return model"
   ]
  },
  {
   "cell_type": "markdown",
   "metadata": {},
   "source": [
    "## Stage 7 - provide a summary of the model"
   ]
  },
  {
   "cell_type": "code",
   "execution_count": 13,
   "metadata": {
    "deletable": false,
    "name": "mltkc_summary"
   },
   "outputs": [],
   "source": [
    "# return model summary\n",
    "def summary(model=None):\n",
    "    returns = {\"version\": {\"spacy\": spacy.__version__} }\n",
    "    if model is not None:\n",
    "        # Save keras model summary to string:\n",
    "        s = []\n",
    "        returns[\"summary\"] = ''.join(s)\n",
    "    return returns"
   ]
  },
  {
   "cell_type": "markdown",
   "metadata": {},
   "source": [
    "## End of Stages\n",
    "All subsequent cells are not tagged and can be used for further freeform code"
   ]
  },
  {
   "cell_type": "code",
   "execution_count": null,
   "metadata": {},
   "outputs": [],
   "source": []
  },
  {
   "cell_type": "code",
   "execution_count": null,
   "metadata": {},
   "outputs": [],
   "source": []
  },
  {
   "cell_type": "code",
   "execution_count": null,
   "metadata": {},
   "outputs": [],
   "source": []
  },
  {
   "cell_type": "code",
   "execution_count": null,
   "metadata": {},
   "outputs": [],
   "source": []
  },
  {
   "cell_type": "code",
   "execution_count": null,
   "metadata": {},
   "outputs": [],
   "source": []
  }
 ],
 "metadata": {
  "kernelspec": {
   "display_name": "Python 3",
   "language": "python",
   "name": "python3"
  },
  "language_info": {
   "codemirror_mode": {
    "name": "ipython",
    "version": 3
   },
   "file_extension": ".py",
   "mimetype": "text/x-python",
   "name": "python",
   "nbconvert_exporter": "python",
   "pygments_lexer": "ipython3",
   "version": "3.6.8"
  }
 },
 "nbformat": 4,
 "nbformat_minor": 4
}
